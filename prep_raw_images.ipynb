{
 "cells": [
  {
   "cell_type": "code",
   "execution_count": 1,
   "metadata": {},
   "outputs": [],
   "source": [
    "import time\n",
    "import numpy as np\n",
    "from PIL import Image\n",
    "from os import listdir\n",
    "from os.path import isfile, join\n",
    "from random import randint \n",
    "import pickle\n",
    "\n",
    "INPUT_H = 224\n",
    "INPUT_W = 224\n",
    "NUM_PICS = 512\n",
    "NUM_DIRS = 64\n",
    "\n",
    "TARGET='/data/rawimages/'\n",
    "DATA = '/data/imagenet_data/raw-data/train/'"
   ]
  },
  {
   "cell_type": "code",
   "execution_count": 2,
   "metadata": {},
   "outputs": [],
   "source": [
    "dirs= [f for f in listdir('/data/imagenet_data/raw-data/train/') if (\"n\" in f)]"
   ]
  },
  {
   "cell_type": "code",
   "execution_count": 3,
   "metadata": {},
   "outputs": [
    {
     "name": "stdout",
     "output_type": "stream",
     "text": [
      "/data/imagenet_data/raw-data/train/n04258138/\n",
      "/data/imagenet_data/raw-data/train/n04356056/\n",
      "/data/imagenet_data/raw-data/train/n04467665/\n",
      "/data/imagenet_data/raw-data/train/n02328150/\n",
      "/data/imagenet_data/raw-data/train/n02279972/\n",
      "/data/imagenet_data/raw-data/train/n03775071/\n",
      "/data/imagenet_data/raw-data/train/n02091244/\n",
      "/data/imagenet_data/raw-data/train/n07754684/\n",
      "/data/imagenet_data/raw-data/train/n03857828/\n",
      "/data/imagenet_data/raw-data/train/n03777568/\n",
      "/data/imagenet_data/raw-data/train/n09256479/\n",
      "/data/imagenet_data/raw-data/train/n03866082/\n",
      "/data/imagenet_data/raw-data/train/n02099429/\n",
      "/data/imagenet_data/raw-data/train/n02443484/\n",
      "/data/imagenet_data/raw-data/train/n03903868/\n",
      "/data/imagenet_data/raw-data/train/n02804414/\n",
      "/data/imagenet_data/raw-data/train/n06785654/\n",
      "/data/imagenet_data/raw-data/train/n04380533/\n",
      "/data/imagenet_data/raw-data/train/n04372370/\n",
      "/data/imagenet_data/raw-data/train/n02865351/\n",
      "/data/imagenet_data/raw-data/train/n03188531/\n",
      "/data/imagenet_data/raw-data/train/n07684084/\n",
      "/data/imagenet_data/raw-data/train/n02708093/\n",
      "/data/imagenet_data/raw-data/train/n01833805/\n",
      "/data/imagenet_data/raw-data/train/n02090379/\n",
      "/data/imagenet_data/raw-data/train/n02790996/\n",
      "/data/imagenet_data/raw-data/train/n03930313/\n",
      "/data/imagenet_data/raw-data/train/n02091134/\n",
      "/data/imagenet_data/raw-data/train/n02002556/\n",
      "/data/imagenet_data/raw-data/train/n02398521/\n",
      "/data/imagenet_data/raw-data/train/n02086646/\n",
      "/data/imagenet_data/raw-data/train/n01592084/\n",
      "/data/imagenet_data/raw-data/train/n02699494/\n",
      "/data/imagenet_data/raw-data/train/n03481172/\n",
      "/data/imagenet_data/raw-data/train/n04277352/\n",
      "/data/imagenet_data/raw-data/train/n02097209/\n",
      "/data/imagenet_data/raw-data/train/n03042490/\n",
      "/data/imagenet_data/raw-data/train/n02825657/\n",
      "/data/imagenet_data/raw-data/train/n02088364/\n",
      "/data/imagenet_data/raw-data/train/n03532672/\n",
      "/data/imagenet_data/raw-data/train/n02114548/\n",
      "/data/imagenet_data/raw-data/train/n03017168/\n",
      "/data/imagenet_data/raw-data/train/n04254777/\n",
      "/data/imagenet_data/raw-data/train/n03595614/\n",
      "/data/imagenet_data/raw-data/train/n04344873/\n",
      "/data/imagenet_data/raw-data/train/n02099601/\n",
      "/data/imagenet_data/raw-data/train/n03690938/\n",
      "/data/imagenet_data/raw-data/train/n01882714/\n",
      "/data/imagenet_data/raw-data/train/n01749939/\n",
      "/data/imagenet_data/raw-data/train/n02105855/\n",
      "/data/imagenet_data/raw-data/train/n02981792/\n",
      "/data/imagenet_data/raw-data/train/n04560804/\n",
      "/data/imagenet_data/raw-data/train/n02268443/\n",
      "/data/imagenet_data/raw-data/train/n01924916/\n",
      "/data/imagenet_data/raw-data/train/n02097130/\n",
      "/data/imagenet_data/raw-data/train/n04136333/\n",
      "/data/imagenet_data/raw-data/train/n03534580/\n",
      "/data/imagenet_data/raw-data/train/n03457902/\n",
      "/data/imagenet_data/raw-data/train/n02504013/\n",
      "/data/imagenet_data/raw-data/train/n02219486/\n",
      "/data/imagenet_data/raw-data/train/n02120505/\n",
      "/data/imagenet_data/raw-data/train/n09229709/\n",
      "/data/imagenet_data/raw-data/train/n04591157/\n",
      "/data/imagenet_data/raw-data/train/n07717410/\n",
      "time:3.81888699532\n",
      "image/sec = 8580.51051005\n"
     ]
    }
   ],
   "source": [
    "for t in range(NUM_DIRS):\n",
    "    PATH = DATA + dirs[t] + \"/\"\n",
    "\n",
    "    files= [f for f in listdir(PATH) if isfile(join(PATH, f))]\n",
    "\n",
    "    start = time.time()\n",
    "\n",
    "    img2 = np.empty(0)\n",
    "    \n",
    "    print(PATH)\n",
    "    \n",
    "    for k in range(NUM_PICS):\n",
    "        name=files[k]\n",
    "        full_name=PATH+name\n",
    "        img = Image.open(full_name).convert('RGB')\n",
    "        img = img.resize((INPUT_H,INPUT_W))\n",
    "        img.save(TARGET + files[k] + '.bmp')\n",
    "        \n",
    "    end = time.time()\n",
    "   \n",
    "    \n",
    "diff = (end-start)\n",
    "print(\"time:\" + str(diff))\n",
    "print(\"image/sec = \" + str((NUM_PICS * NUM_DIRS)/diff) )"
   ]
  },
  {
   "cell_type": "code",
   "execution_count": null,
   "metadata": {},
   "outputs": [],
   "source": []
  }
 ],
 "metadata": {
  "kernelspec": {
   "display_name": "Python 2",
   "language": "python",
   "name": "python2"
  },
  "language_info": {
   "codemirror_mode": {
    "name": "ipython",
    "version": 2
   },
   "file_extension": ".py",
   "mimetype": "text/x-python",
   "name": "python",
   "nbconvert_exporter": "python",
   "pygments_lexer": "ipython2",
   "version": "2.7.12"
  }
 },
 "nbformat": 4,
 "nbformat_minor": 2
}
