{
 "cells": [
  {
   "cell_type": "code",
   "execution_count": 1,
   "metadata": {},
   "outputs": [],
   "source": [
    "import tensorrt as trt"
   ]
  },
  {
   "cell_type": "code",
   "execution_count": 2,
   "metadata": {},
   "outputs": [],
   "source": [
    "import pycuda.driver as cuda \n",
    "import pycuda.autoinit \n",
    "import numpy as np\n",
    "import time"
   ]
  },
  {
   "cell_type": "code",
   "execution_count": 3,
   "metadata": {},
   "outputs": [],
   "source": [
    "from random import randint \n",
    "from PIL import Image"
   ]
  },
  {
   "cell_type": "code",
   "execution_count": 4,
   "metadata": {},
   "outputs": [],
   "source": [
    "from tensorrt.parsers import caffeparser"
   ]
  },
  {
   "cell_type": "code",
   "execution_count": 5,
   "metadata": {},
   "outputs": [],
   "source": [
    "G_LOGGER = trt.infer.ConsoleLogger(trt.infer.LogSeverity.ERROR)"
   ]
  },
  {
   "cell_type": "code",
   "execution_count": 6,
   "metadata": {},
   "outputs": [],
   "source": [
    "INPUT_LAYERS = ['data']\n",
    "OUTPUT_LAYERS = ['prob']\n",
    "INPUT_H = 224\n",
    "INPUT_W = 224\n",
    "OUTPUT_SIZE = 1000\n",
    "NUM_PICS = 1"
   ]
  },
  {
   "cell_type": "code",
   "execution_count": 7,
   "metadata": {},
   "outputs": [],
   "source": [
    "MODEL_PROTOTXT = '/machineLearning/installs/caffe/ResNet-50-deploy.prototxt'\n",
    "CAFFE_MODEL = '/machineLearning/installs/caffe/ResNet-50-model.caffemodel'\n",
    "DATA = '/data/imagenet_data/raw-data/train/n10565667/'\n",
    "IMAGE_MEAN = '/machineLearning/installs/caffe/ResNet_mean.binaryproto'\n",
    "TARGET ='/data/rawimages/'"
   ]
  },
  {
   "cell_type": "code",
   "execution_count": 8,
   "metadata": {},
   "outputs": [
    {
     "name": "stdout",
     "output_type": "stream",
     "text": [
      "Building Engine\n"
     ]
    }
   ],
   "source": [
    "engine = trt.utils.caffe_to_trt_engine(G_LOGGER, MODEL_PROTOTXT, CAFFE_MODEL, NUM_PICS, 1 << 20, OUTPUT_LAYERS, trt.infer.DataType.FLOAT) "
   ]
  },
  {
   "cell_type": "code",
   "execution_count": 9,
   "metadata": {
    "scrolled": true
   },
   "outputs": [
    {
     "name": "stdout",
     "output_type": "stream",
     "text": [
      "Test Case: 32768\n"
     ]
    }
   ],
   "source": [
    "import os\n",
    "file_list = [f for f in os.listdir(TARGET) if os.path.isfile(os.path.join(TARGET, f))]\n",
    "images_trt = []\n",
    "for f in file_list:\n",
    "    limg = Image.open(os.path.join(TARGET, f))\n",
    "    img = np.asarray(limg)\n",
    "    img = img.astype(np.float32)\n",
    "    images_trt.append(img)\n",
    "\n",
    "num_batches = int(len(images_trt) / NUM_PICS)\n",
    "print(\"Test Case: \" + str(num_batches))"
   ]
  },
  {
   "cell_type": "code",
   "execution_count": 10,
   "metadata": {},
   "outputs": [],
   "source": [
    "runtime = trt.infer.create_infer_runtime(G_LOGGER)\n",
    "context = engine.create_execution_context()"
   ]
  },
  {
   "cell_type": "code",
   "execution_count": 11,
   "metadata": {},
   "outputs": [
    {
     "name": "stdout",
     "output_type": "stream",
     "text": [
      "time:95.6591598988\n",
      "image/sec = 342.549527245\n"
     ]
    }
   ],
   "source": [
    "assert(engine.get_nb_bindings() == 2)\n",
    "output = np.empty(OUTPUT_SIZE, dtype = np.float32)\n",
    "counter = 0\n",
    "stream = cuda.Stream()\n",
    "d_input = cuda.mem_alloc(NUM_PICS * img.size * img.dtype.itemsize)\n",
    "d_output = cuda.mem_alloc(NUM_PICS * output.size * output.dtype.itemsize)\n",
    "bindings = [int(d_input), int(d_output)]\n",
    "\n",
    "start = time.time()\n",
    "for img in images_trt:\n",
    "    cuda.memcpy_htod_async(d_input, img, stream)\n",
    "    context.enqueue(1, bindings, stream.handle, None)\n",
    "    cuda.memcpy_dtoh_async(output, d_output, stream)\n",
    "    #print(\"Test Case: \" + str(file_list[counter]))\n",
    "    #print (\"Prediction: \" + str(np.argmax(output)) + str(counter))\n",
    "    counter = counter + 1\n",
    "    \n",
    "stream.synchronize()\n",
    "end = time.time()\n",
    "diff = (end-start)\n",
    "print(\"time:\" + str(diff))\n",
    "print(\"image/sec = \" + str(num_batches/diff) )"
   ]
  }
 ],
 "metadata": {
  "kernelspec": {
   "display_name": "Python 2",
   "language": "python",
   "name": "python2"
  },
  "language_info": {
   "codemirror_mode": {
    "name": "ipython",
    "version": 2
   },
   "file_extension": ".py",
   "mimetype": "text/x-python",
   "name": "python",
   "nbconvert_exporter": "python",
   "pygments_lexer": "ipython2",
   "version": "2.7.12"
  }
 },
 "nbformat": 4,
 "nbformat_minor": 2
}
